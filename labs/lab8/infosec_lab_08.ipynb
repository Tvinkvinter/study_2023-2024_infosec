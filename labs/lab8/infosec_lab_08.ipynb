{
 "cells": [
  {
   "cell_type": "code",
   "execution_count": 3,
   "id": "d8117b2b",
   "metadata": {},
   "outputs": [],
   "source": [
    "def ecncrypt(t1, t2):\n",
    "    t1 = [ord(i) for i in t1]\n",
    "    t2 = [ord(i) for i in t2]\n",
    "    return ''.join(chr(a^b) for a, b in zip(t1, t2))"
   ]
  },
  {
   "cell_type": "code",
   "execution_count": 4,
   "id": "68c056a0",
   "metadata": {},
   "outputs": [
    {
     "name": "stdout",
     "output_type": "stream",
     "text": [
      "Зашифрованный текст C1: ЭЅвЀЋИѰѲОЃЉѩЈѼОѶt\u0012\u0003\u0003\n",
      "Зашифрованный текст C2: ТДЕЂѶѠЌѼЙѳѾЛЈѵЛХѵНЉЇ\n",
      "Расшифрованный текст P1: ВСеверныйфилиалБанка\n",
      "Расшифрованный текст P2: НаВашисходящийот1204\n"
     ]
    }
   ],
   "source": [
    "P1 = \"НаВашисходящийот1204\"\n",
    "P2 = \"ВСеверныйфилиалБанка\"\n",
    "\n",
    "K = \"05 0C 17 7F 0E 4E 37 D2 94 10 09 2E 22 57 FF C8 OB B2 70 54\"\n",
    "\n",
    "C1 = ecncrypt(P1, K)\n",
    "C2 = ecncrypt(P2, K)\n",
    "\n",
    "print(\"Зашифрованный текст C1:\", C1)\n",
    "print(\"Зашифрованный текст C2:\", C2)\n",
    "\n",
    "decr = ecncrypt(C1, C2)\n",
    "\n",
    "print(\"Расшифрованный текст P1:\", ecncrypt(decr, P1))\n",
    "print(\"Расшифрованный текст P2:\", ecncrypt(decr, P2))"
   ]
  },
  {
   "cell_type": "code",
   "execution_count": null,
   "id": "4d6d3376",
   "metadata": {},
   "outputs": [],
   "source": []
  }
 ],
 "metadata": {
  "kernelspec": {
   "display_name": "Python 3 (ipykernel)",
   "language": "python",
   "name": "python3"
  },
  "language_info": {
   "codemirror_mode": {
    "name": "ipython",
    "version": 3
   },
   "file_extension": ".py",
   "mimetype": "text/x-python",
   "name": "python",
   "nbconvert_exporter": "python",
   "pygments_lexer": "ipython3",
   "version": "3.11.4"
  }
 },
 "nbformat": 4,
 "nbformat_minor": 5
}
