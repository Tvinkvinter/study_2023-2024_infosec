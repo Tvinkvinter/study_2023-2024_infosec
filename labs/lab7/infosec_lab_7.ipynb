{
 "cells": [
  {
   "cell_type": "code",
   "execution_count": 1,
   "id": "e90aa332",
   "metadata": {},
   "outputs": [],
   "source": [
    "import string\n",
    "import random"
   ]
  },
  {
   "cell_type": "code",
   "execution_count": 2,
   "id": "821d8362",
   "metadata": {},
   "outputs": [],
   "source": [
    "def toHex(text):\n",
    "    return \" \".join(hex(ord(i))[2:] for i in text)"
   ]
  },
  {
   "cell_type": "code",
   "execution_count": 8,
   "id": "9a815b41",
   "metadata": {},
   "outputs": [],
   "source": [
    "def gen_key(size):\n",
    "    key = \"\".join(random.choice(string.ascii_letters + string.digits) for _ in range(size))\n",
    "    return key"
   ]
  },
  {
   "cell_type": "code",
   "execution_count": 4,
   "id": "1df80c00",
   "metadata": {},
   "outputs": [],
   "source": [
    "def encoder(text, key):\n",
    "    return \"\".join(chr(a^b) for a, b in zip(text, key))"
   ]
  },
  {
   "cell_type": "code",
   "execution_count": 10,
   "id": "e07c28ed",
   "metadata": {
    "scrolled": true
   },
   "outputs": [
    {
     "name": "stdout",
     "output_type": "stream",
     "text": [
      "Ключ:  37 75 70 41 76 41 5a 50 4c 73 4a 52 4c 44 33 71 72 41 72 79 62 77\n",
      "Зашифрованное сообщение:  416 55 46d 47f 444 40a 466 70 47f 44d 47e 46c 470 68 13 445 432 402 445 435 42d 56\n",
      "Расшифрованный текст:  С Новым годом, друзья!\n"
     ]
    }
   ],
   "source": [
    "msg = \"С Новым годом, друзья!\"\n",
    "key = gen_key(len(msg))\n",
    "hex_key = toHex(key)\n",
    "print(\"Ключ: \", hex_key)\n",
    "enc_text = encoder([ord(i) for i in msg], [ord(i) for i in key])\n",
    "hex_text = toHex(enc_text)\n",
    "print(\"Зашифрованное сообщение: \", hex_text)\n",
    "decr_text = encoder([ord(i) for i in enc_text], [ord(i) for i in key])\n",
    "print(\"Расшифрованный текст: \", decr_text)"
   ]
  },
  {
   "cell_type": "code",
   "execution_count": 11,
   "id": "0594b828",
   "metadata": {},
   "outputs": [
    {
     "name": "stdout",
     "output_type": "stream",
     "text": [
      "Ключ:  37 75 70 41 76 41 5a 50 4c 73 4a 52 4c 44 33 7f c 39 7e 0 1e 466\n"
     ]
    }
   ],
   "source": [
    "new_msg = \"С Новым годом, коллега\"\n",
    "\n",
    "key = encoder([ord(i) for i in enc_text], [ord(i) for i in new_msg])\n",
    "print(\"Ключ: \", toHex(key))"
   ]
  },
  {
   "cell_type": "code",
   "execution_count": null,
   "id": "f6e5f1ce",
   "metadata": {},
   "outputs": [],
   "source": []
  }
 ],
 "metadata": {
  "kernelspec": {
   "display_name": "Python 3 (ipykernel)",
   "language": "python",
   "name": "python3"
  },
  "language_info": {
   "codemirror_mode": {
    "name": "ipython",
    "version": 3
   },
   "file_extension": ".py",
   "mimetype": "text/x-python",
   "name": "python",
   "nbconvert_exporter": "python",
   "pygments_lexer": "ipython3",
   "version": "3.11.4"
  }
 },
 "nbformat": 4,
 "nbformat_minor": 5
}
